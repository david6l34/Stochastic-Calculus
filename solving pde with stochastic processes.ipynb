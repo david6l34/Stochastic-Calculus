{
 "cells": [
  {
   "cell_type": "markdown",
   "metadata": {},
   "source": [
    "# Solving PDE with stochastic processes\n",
    "\n",
    "## Kolmogorov's Equations\n",
    "The kolmogorov's equation provide a link between stochastics process and PDE. It shows that the solution of PDE can be expressed as the expectation of stochastic processes\n",
    "\n",
    "### Kolmogorov's Backward Equation with initial value\n",
    "Let $(X_t, t\\geq 0)$ be a diffusion with SDE\n",
    "$$dX_t = \\sigma(X_t)dB_t + \\mu(X_t)dt$$\n",
    "Let $g \\in C^2(R)$ be such that g is 0 outside an interval. Then the solution of the PDE with initial value\n",
    "$$\n",
    "\\begin{align}\n",
    "\\frac{\\partial f}{\\partial t}(t, x) &= \\frac{\\sigma(x)^2}{2} \\frac{\\partial^2f}{\\partial x^2}(t,x) + \\mu(x)\\frac{\\partial f}{\\partial x}(t, x) \\\\\n",
    "f(0, x)&=g(x)\n",
    "\\end{align}\n",
    "$$\n",
    "has the representation\n",
    "$$f(t, x) = E[g(X_t)|X_0=x]$$\n",
    "\n",
    "\n"
   ]
  },
  {
   "cell_type": "markdown",
   "metadata": {},
   "source": [
    "# Solving the heat equation of a rod\n",
    "The 1 dimension heat equation is given by\n",
    "$$ \\frac{\\partial f}{\\partial t} = \\frac{1}{2} \\frac{\\partial^2f}{\\partial x^2} $$\n",
    "Consider the initial function $g(x) = 1-|x|$ for $|x| \\leq 1$ , else 0\n",
    "\n",
    "The function $f(t,x)$ can be expressed as $f(t, x) = E[g(B_t)|B_o=x]$ by considering the Kolmogorov\n",
    "s backward equation with initial value"
   ]
  },
  {
   "cell_type": "markdown",
   "source": [
    "![heat rod gif](anim.gif)"
   ],
   "metadata": {
    "collapsed": false
   }
  },
  {
   "cell_type": "code",
   "execution_count": 76,
   "metadata": {},
   "outputs": [
    {
     "data": {
      "text/plain": "(1001, 101)"
     },
     "execution_count": 76,
     "metadata": {},
     "output_type": "execute_result"
    }
   ],
   "source": [
    "\n",
    "import numpy as np\n",
    "import matplotlib.pyplot as plt\n",
    "from sde import brownian_motion\n",
    "\n",
    "n_samples = 1000\n",
    "\n",
    "t = 0.01\n",
    "g = lambda x: (1 - np.abs(x)) * ( np.abs(x) <= 1)\n",
    "dt = 0.01\n",
    "T = 1\n",
    "n = int(T/dt + 1)\n",
    "dx = 0.01\n",
    "\n",
    "X = np.arange(-5, 5+dx, dx)\n",
    "\n",
    "res = [] # shape (x, t)\n",
    "for x in X:\n",
    "    B = np.asarray([brownian_motion(n=n, T=T) + x for _ in range(n_samples)]) # shape (samples, t)\n",
    "    gB = g(B)\n",
    "    res.append(np.mean(gB, axis=0))\n",
    "\n",
    "res = np.asarray(res)\n",
    "\n",
    "res.shape\n",
    "\n"
   ]
  },
  {
   "cell_type": "code",
   "execution_count": 46,
   "outputs": [
    {
     "data": {
      "text/plain": "(1001, 101)"
     },
     "execution_count": 46,
     "metadata": {},
     "output_type": "execute_result"
    }
   ],
   "source": [
    "res.shape"
   ],
   "metadata": {
    "collapsed": false
   }
  },
  {
   "cell_type": "code",
   "execution_count": 72,
   "metadata": {},
   "outputs": [
    {
     "data": {
      "text/plain": "<Figure size 640x480 with 1 Axes>",
      "image/png": "[encoded data removed]"
     },
     "metadata": {},
     "output_type": "display_data"
    }
   ],
   "source": [
    "from matplotlib.animation import FuncAnimation\n",
    "\n",
    "def create_anime():\n",
    "    figure, ax = plt.subplots()\n",
    "    line, = ax.plot([], [])\n",
    "    ax.set_xlim(-5, 5)\n",
    "    ax.set_ylim(0, 1)\n",
    "    plt.title('Heat dispersion in 1d rod, simulated by generating brownian motion')\n",
    "    def animate(frame):\n",
    "        line.set_data((X, res[:, frame]))\n",
    "        return line,\n",
    "\n",
    "    animation = FuncAnimation(\n",
    "        figure,\n",
    "        animate,\n",
    "        frames = n,\n",
    "        interval=50,\n",
    "        blit=True\n",
    "    )\n",
    "    return animation\n",
    "anim = create_anime()\n",
    "html = anim.to_jshtml()"
   ]
  },
  {
   "cell_type": "code",
   "execution_count": 71,
   "outputs": [
    {
     "name": "stderr",
     "output_type": "stream",
     "text": [
      "MovieWriter ffmpeg unavailable; using Pillow instead.\n"
     ]
    }
   ],
   "source": [
    "anim.save('anim.gif')"
   ],
   "metadata": {
    "collapsed": false
   }
  },
  {
   "cell_type": "code",
   "execution_count": null,
   "outputs": [],
   "source": [
    "\"\"\"\n",
    "\n",
    "### Kolmogorov's Forward Equation (Fokker-Planck Equation)\n",
    "Let $X_t, t \\geq 0$ be a diffusion with SDE\n",
    "$$dX_t = \\sigma(X_t) dB_t + \\mu(X_t)dt, X_0=x_0 $$\n",
    "Let $p_t(x_0,x)$ be the transition probability density for a fixed $x_0$.\n",
    "Let $A^*$ be the adjoint of generator $A$,\n",
    "$$\n",
    "\\begin{align}\n",
    "A^*f(x) &= \\frac{1}{2}\\frac{\\partial^2}{\\partial x^2}(\\sigma^2x^2f(x))\n",
    "- \\frac{\\partial}{\\partial x}((\\mu+\\frac{\\sigma^2}{2})xf(x)) \\\\\n",
    "\n",
    "&= \\frac{\\sigma^2}{2} (x^2f''(x)+4xf'(x)+2f(x))-(\\mu+\\frac{\\sigma^2}{2})(xf'(x)+f(x))\n",
    "\\end{align}\n",
    "$$\n",
    "Then the function $f(t, y)=p_t(x_0, y)$ is a solution of the PDE\n",
    "$$\\frac{\\partial f}{\\partial t} = A^*f $$\n",
    "\"\"\""
   ],
   "metadata": {
    "collapsed": false
   }
  }
 ],
 "metadata": {
  "kernelspec": {
   "display_name": "Python 3 (ipykernel)",
   "language": "python",
   "name": "python3"
  },
  "language_info": {
   "codemirror_mode": {
    "name": "ipython",
    "version": 3
   },
   "file_extension": ".py",
   "mimetype": "text/x-python",
   "name": "python",
   "nbconvert_exporter": "python",
   "pygments_lexer": "ipython3",
   "version": "3.10.9"
  }
 },
 "nbformat": 4,
 "nbformat_minor": 1
}
